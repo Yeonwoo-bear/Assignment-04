{
  "nbformat": 4,
  "nbformat_minor": 0,
  "metadata": {
    "colab": {
      "provenance": []
    },
    "kernelspec": {
      "name": "python3",
      "display_name": "Python 3"
    },
    "language_info": {
      "name": "python"
    }
  },
  "cells": [
    {
      "cell_type": "markdown",
      "source": [
        "#1. LeetCode 225. Implement Stack using Queues"
      ],
      "metadata": {
        "id": "Z_E3b_tYQLAR"
      }
    },
    {
      "cell_type": "code",
      "source": [
        "from collections import deque\n",
        "\n",
        "class MyStack:\n",
        "\n",
        "    def __init__(self):\n",
        "        self.q = deque()\n",
        "\n",
        "    def push(self, x: int) -> None:\n",
        "        self.q.append(x)\n",
        "        for _ in range(len(self.q) - 1):\n",
        "            self.q.append(self.q.popleft())\n",
        "\n",
        "    def pop(self) -> int:\n",
        "        return self.q.popleft()\n",
        "\n",
        "    def top(self) -> int:\n",
        "        return self.q[0]\n",
        "\n",
        "    def empty(self) -> bool:\n",
        "        return len(self.q) == 0"
      ],
      "metadata": {
        "id": "ZXDb9CNpZq_0"
      },
      "execution_count": null,
      "outputs": []
    },
    {
      "cell_type": "markdown",
      "source": [
        "#2. LeetCode 232. Implement Queue using Stacks"
      ],
      "metadata": {
        "id": "47M4dfzGb4A0"
      }
    },
    {
      "cell_type": "code",
      "source": [
        "class MyQueue:\n",
        "\n",
        "    def __init__(self):\n",
        "        self.in_stack = []\n",
        "        self.out_stack = []\n",
        "\n",
        "    def push(self, x: int) -> None:\n",
        "        self.in_stack.append(x)\n",
        "\n",
        "    def pop(self) -> int:\n",
        "        self.move()\n",
        "        return self.out_stack.pop()\n",
        "\n",
        "    def peek(self) -> int:\n",
        "        self.move()\n",
        "        return self.out_stack[-1]\n",
        "\n",
        "    def empty(self) -> bool:\n",
        "        return not self.in_stack and not self.out_stack\n",
        "\n",
        "    def move(self):\n",
        "        if not self.out_stack:\n",
        "            while self.in_stack:\n",
        "                self.out_stack.append(self.in_stack.pop())\n"
      ],
      "metadata": {
        "id": "3rlwbJUEb8Gs"
      },
      "execution_count": null,
      "outputs": []
    },
    {
      "cell_type": "markdown",
      "source": [
        "#3. 교재의 큐 연습문제 전부"
      ],
      "metadata": {
        "id": "xLsDSZMqcYg-"
      }
    },
    {
      "cell_type": "code",
      "source": [
        "#1번\n",
        "class ListQueue:\n",
        "    def __init__(self):\n",
        "        self.__queue = []\n",
        "\n",
        "    def enqueue(self, x):\n",
        "        self.__queue.insert(0, x)\n",
        "\n",
        "    def dequeue(self):\n",
        "        return self.__queue.pop()\n",
        "\n",
        "    def front(self):\n",
        "        return self.__queue[-1]\n",
        "\n",
        "    def isEmpty(self) -> bool:\n",
        "        return len(self.__queue) == 0\n",
        "\n",
        "    def dequeueAll(self):\n",
        "        self.__queue.clear()"
      ],
      "metadata": {
        "id": "pdEHHhF1hghb"
      },
      "execution_count": null,
      "outputs": []
    },
    {
      "cell_type": "code",
      "source": [
        "#2번\n",
        "from collections import deque\n",
        "\n",
        "def is_member(char_set, target):\n",
        "    q = deque(char_set)\n",
        "    while q:\n",
        "        if q.popleft() == target:\n",
        "            return True\n",
        "    return False"
      ],
      "metadata": {
        "id": "lelT-JvChkBr"
      },
      "execution_count": null,
      "outputs": []
    },
    {
      "cell_type": "code",
      "source": [
        "#3번\n",
        "class LinkedQueueNode:\n",
        "    def __init__(self, data):\n",
        "        self.data = data\n",
        "        self.next = None\n",
        "\n",
        "class LinkedQueue:\n",
        "    def __init__(self):\n",
        "        self.front = None\n",
        "        self.rear = None\n",
        "\n",
        "    def enqueue(self, data):\n",
        "        new_node = LinkedQueueNode(data)\n",
        "        if self.rear:\n",
        "            self.rear.next = new_node\n",
        "        else:\n",
        "            self.front = new_node\n",
        "        self.rear = new_node\n",
        "\n",
        "    def dequeue(self):\n",
        "        if self.front:\n",
        "            data = self.front.data\n",
        "            self.front = self.front.next\n",
        "            if not self.front:\n",
        "                self.rear = None\n",
        "            return data\n",
        "        return None\n",
        "\n",
        "    def isEmpty(self):\n",
        "        return self.front is None\n",
        "\n",
        "    def clone(self):\n",
        "        new_queue = LinkedQueue()\n",
        "        current = self.front\n",
        "        while current:\n",
        "            new_queue.enqueue(current.data)\n",
        "            current = current.next\n",
        "        return new_queue\n"
      ],
      "metadata": {
        "id": "NRGPevHgnvQM"
      },
      "execution_count": null,
      "outputs": []
    },
    {
      "cell_type": "code",
      "source": [
        "#4번\n",
        "from collections import deque\n",
        "\n",
        "class StackUsingQueues:\n",
        "    def __init__(self):\n",
        "        self.q1 = deque()\n",
        "        self.q2 = deque()\n",
        "\n",
        "    def push(self, x):\n",
        "        self.q2.append(x)\n",
        "        while self.q1:\n",
        "            self.q2.append(self.q1.popleft())\n",
        "        self.q1, self.q2 = self.q2, self.q1\n",
        "\n",
        "    def pop(self):\n",
        "        return self.q1.popleft() if self.q1 else None\n"
      ],
      "metadata": {
        "id": "M-_2H4f-nzNb"
      },
      "execution_count": null,
      "outputs": []
    },
    {
      "cell_type": "code",
      "source": [
        "#5번\n",
        "class QueueUsingStacks:\n",
        "    def __init__(self):\n",
        "        self.stack1 = []\n",
        "        self.stack2 = []\n",
        "\n",
        "    def enqueue(self, x):\n",
        "        self.stack1.append(x)\n",
        "\n",
        "    def dequeue(self):\n",
        "        if not self.stack2:\n",
        "            while self.stack1:\n",
        "                self.stack2.append(self.stack1.pop())\n",
        "        return self.stack2.pop() if self.stack2 else None\n"
      ],
      "metadata": {
        "id": "Mqa5m1c7n9H7"
      },
      "execution_count": null,
      "outputs": []
    },
    {
      "cell_type": "markdown",
      "source": [
        "### 6번\n",
        "enqueue(x) : O(1) — 리스트 맨 뒤에 삽입할 때\n",
        "\n",
        "dequeue() : O(n) — 리스트 맨 앞에서 삭제하려면 모든 요소를 한 칸씩 당겨야 하기 때문이다.\n",
        "\n",
        "\n"
      ],
      "metadata": {
        "id": "WsxGDwlG02Ap"
      }
    },
    {
      "cell_type": "markdown",
      "source": [
        "### 7번\n",
        "enqueue(x) : O(1) — 맨 뒤에 노드 추가할 때\n",
        "\n",
        "dequeue() : O(1) — 맨 앞 노드를 제거할 때\n",
        "\n"
      ],
      "metadata": {
        "id": "y-Ihf2N_3Pdb"
      }
    },
    {
      "cell_type": "code",
      "source": [
        "#8번\n",
        "from collections import deque\n",
        "\n",
        "class DequeQueue:\n",
        "    def __init__(self):\n",
        "        self.__queue = deque()\n",
        "\n",
        "    def enqueue(self, x):\n",
        "        self.__queue.append(x)\n",
        "\n",
        "    def dequeue(self):\n",
        "        return self.__queue.popleft() if not self.isEmpty() else None\n",
        "\n",
        "    def front(self):\n",
        "        return self.__queue[0] if not self.isEmpty() else None\n",
        "\n",
        "    def isEmpty(self):\n",
        "        return len(self.__queue) == 0\n",
        "\n",
        "    def dequeueAll(self):\n",
        "        self.__queue.clear()\n",
        "\n",
        "    def printQueue(self):\n",
        "        print(\"Queue from front:\", end=' ')\n",
        "        for item in self.__queue:\n",
        "            print(item, end=' ')\n",
        "        print()"
      ],
      "metadata": {
        "id": "1TvqDK9eoTnb"
      },
      "execution_count": null,
      "outputs": []
    }
  ]
}